{
 "cells": [
  {
   "cell_type": "raw",
   "id": "85b7d45c-27f8-4f42-9fcc-e25c95971afe",
   "metadata": {},
   "source": [
    "---\n",
    "title: \"Visualize local ancestry by chromosome\"\n",
    "author: \"Kynon J Benjamin\"\n",
    "date: \"7/3/2024\"\n",
    "execute: \n",
    "  enable: true\n",
    "format: \n",
    "  ipynb:\n",
    "    number-sections: true\n",
    "    output-file: visualization.ipynb\n",
    "  html:\n",
    "    toc: true\n",
    "    toc-depth: 3\n",
    "    toc-location: right-body\n",
    "    number-sections: true\n",
    "    theme: darkly\n",
    "    code-fold: false\n",
    "    output-file: visualization.html\n",
    "jupyter: python3\n",
    "---"
   ]
  },
  {
   "cell_type": "markdown",
   "id": "6a8b6d48-e2ae-4280-80e8-0ede0c747977",
   "metadata": {},
   "source": [
    "# Load packages"
   ]
  },
  {
   "cell_type": "code",
   "execution_count": null,
   "id": "d0bc069c-2341-4ef3-9e27-30fef3255c62",
   "metadata": {},
   "outputs": [],
   "source": [
    "import session_info\n",
    "import pandas as pd\n",
    "import seaborn as sns\n",
    "from pyhere import here\n",
    "import matplotlib.pyplot as plt\n",
    "from rfmix_reader import read_rfmix"
   ]
  },
  {
   "cell_type": "markdown",
   "id": "a5f9ffcd-f6a4-4e85-b99c-2bca23eed4e4",
   "metadata": {},
   "source": [
    "# Load data"
   ]
  },
  {
   "cell_type": "code",
   "execution_count": null,
   "id": "b97d453d-94ca-4015-af2c-81e01ef7f5f7",
   "metadata": {},
   "outputs": [],
   "source": [
    "prefix_path = here(\"input/real_data/_m/\")\n",
    "binary_dir = here(\"real_data/gpu_version/_m/binary_files/\")\n",
    "_, rf_q, _ = read_rfmix(prefix_path, binary_dir=binary_dir)"
   ]
  },
  {
   "cell_type": "code",
   "execution_count": null,
   "id": "21a07a09-0829-4ec8-98bd-61e9c2842c4f",
   "metadata": {},
   "outputs": [],
   "source": [
    "rf_q.shape"
   ]
  },
  {
   "cell_type": "code",
   "execution_count": null,
   "id": "867ef8fc-5a58-4b38-a5d1-ab80a463ab49",
   "metadata": {},
   "outputs": [],
   "source": [
    "rf_q.head()"
   ]
  },
  {
   "cell_type": "markdown",
   "id": "905532e4-e15f-40f6-a471-e0a112606be5",
   "metadata": {},
   "source": [
    "# Generate plots"
   ]
  },
  {
   "cell_type": "markdown",
   "id": "fa820935-b6dc-4e97-b1dc-cc6d775b4789",
   "metadata": {},
   "source": [
    "## Sort chromosomes in the correct order"
   ]
  },
  {
   "cell_type": "code",
   "execution_count": null,
   "id": "572707f1-e544-422b-b105-5e5607ed7cfb",
   "metadata": {},
   "outputs": [],
   "source": [
    "chrom_order = [f'chr{i}' for i in range(1, 23)]"
   ]
  },
  {
   "cell_type": "code",
   "execution_count": null,
   "id": "d4027008-3f57-4507-b9b5-9074306c93f4",
   "metadata": {},
   "outputs": [],
   "source": [
    "rf_q_pandas = rf_q.to_pandas() # Convert cuDF to pandas DataFrame\n",
    "rf_q_pandas['chrom'] = pd.Categorical(rf_q_pandas['chrom'], \n",
    "                                      categories=chrom_order, ordered=True)"
   ]
  },
  {
   "cell_type": "markdown",
   "id": "1075c65b-043d-40a5-a01e-975398755262",
   "metadata": {},
   "source": [
    "## Sort the dataframe by chromosome"
   ]
  },
  {
   "cell_type": "code",
   "execution_count": null,
   "id": "3babc0b0-9e97-4437-bceb-836b38800694",
   "metadata": {},
   "outputs": [],
   "source": [
    "rf_q_sorted = rf_q_pandas.sort_values('chrom')\n",
    "rf_q_sorted.head()"
   ]
  },
  {
   "cell_type": "markdown",
   "id": "667a99da-e551-47f5-b99a-2447a675e411",
   "metadata": {},
   "source": [
    "## Create and save the plot"
   ]
  },
  {
   "cell_type": "code",
   "execution_count": null,
   "id": "3aff334a-b851-4c6a-b3e3-56521ccaf7f0",
   "metadata": {},
   "outputs": [],
   "source": [
    "plt.figure(figsize=(15, 8))\n",
    "sns.boxplot(x='chrom', y='AFR', data=rf_q_sorted, \n",
    "            color='lightgray', width=0.6)\n",
    "sns.stripplot(x='chrom', y='AFR', data=rf_q_sorted, \n",
    "              color='black', alpha=0.1, jitter=True)\n",
    "plt.axhline(y=0.5, color='black', linestyle='--', linewidth=1)\n",
    "plt.title('Global Ancestry (AFR) by Chromosome', fontsize=18)\n",
    "plt.xlabel('Chromosome', fontsize=14)\n",
    "plt.ylabel('African Genetic Ancestry', fontsize=14)\n",
    "plt.xticks(rotation=45, fontsize=12)\n",
    "plt.yticks(fontsize=12)\n",
    "plt.tight_layout()\n",
    "plt.savefig('global_ancestry_boxplot.pdf', dpi=300, bbox_inches='tight')"
   ]
  },
  {
   "cell_type": "markdown",
   "id": "568aea8c-eb62-4334-8b1c-e04a2929a27f",
   "metadata": {},
   "source": [
    "# Session information"
   ]
  },
  {
   "cell_type": "code",
   "execution_count": null,
   "id": "c07e9b12-28e4-4326-a341-b048e27f62e1",
   "metadata": {},
   "outputs": [],
   "source": [
    "session_info.show()"
   ]
  }
 ],
 "metadata": {
  "kernelspec": {
   "display_name": "Python 3 (ipykernel)",
   "language": "python",
   "name": "python3"
  },
  "language_info": {
   "codemirror_mode": {
    "name": "ipython",
    "version": 3
   },
   "file_extension": ".py",
   "mimetype": "text/x-python",
   "name": "python",
   "nbconvert_exporter": "python",
   "pygments_lexer": "ipython3",
   "version": "3.9.16"
  }
 },
 "nbformat": 4,
 "nbformat_minor": 5
}
