{
 "cells": [
  {
   "cell_type": "raw",
   "id": "85b7d45c-27f8-4f42-9fcc-e25c95971afe",
   "metadata": {},
   "source": [
    "---\n",
    "title: \"Visualize local ancestry: chromosome section\"\n",
    "author: \"Kynon J Benjamin\"\n",
    "date: \"7/3/2024\"\n",
    "execute: \n",
    "  enable: true\n",
    "format: \n",
    "  ipynb:\n",
    "    number-sections: true\n",
    "    output-file: visualization.ipynb\n",
    "  html:\n",
    "    toc: true\n",
    "    toc-depth: 3\n",
    "    toc-location: right-body\n",
    "    number-sections: true\n",
    "    theme: darkly\n",
    "    code-fold: false\n",
    "    output-file: visualization.html\n",
    "jupyter: python3\n",
    "---"
   ]
  },
  {
   "cell_type": "markdown",
   "id": "6a8b6d48-e2ae-4280-80e8-0ede0c747977",
   "metadata": {},
   "source": [
    "# Load packages"
   ]
  },
  {
   "cell_type": "code",
   "execution_count": null,
   "id": "d0bc069c-2341-4ef3-9e27-30fef3255c62",
   "metadata": {},
   "outputs": [],
   "source": [
    "import session_info\n",
    "import pandas as pd\n",
    "import seaborn as sns\n",
    "from pyhere import here\n",
    "import matplotlib.pyplot as plt\n",
    "from rfmix_reader import read_rfmix"
   ]
  },
  {
   "cell_type": "markdown",
   "id": "a5f9ffcd-f6a4-4e85-b99c-2bca23eed4e4",
   "metadata": {},
   "source": [
    "# Load data"
   ]
  },
  {
   "cell_type": "code",
   "execution_count": null,
   "id": "b97d453d-94ca-4015-af2c-81e01ef7f5f7",
   "metadata": {},
   "outputs": [],
   "source": [
    "prefix_path = here(\"input/real_data/_m/\")\n",
    "binary_dir = here(\"real_data/gpu_version/_m/binary_files/\")\n",
    "loci, rf_q, admix = read_rfmix(prefix_path, binary_dir=binary_dir)"
   ]
  },
  {
   "cell_type": "markdown",
   "id": "905532e4-e15f-40f6-a471-e0a112606be5",
   "metadata": {},
   "source": [
    "# Visualize chromosome global ancestry"
   ]
  },
  {
   "cell_type": "markdown",
   "id": "49144933-b27f-44f3-bea1-3ee1731f04f6",
   "metadata": {},
   "source": [
    "## Organize chromosome"
   ]
  },
  {
   "cell_type": "code",
   "execution_count": null,
   "id": "bf4eb07c-91e0-4c6f-8456-7ece16c7da00",
   "metadata": {},
   "outputs": [],
   "source": [
    "chrom_order = [f'chr{i}' for i in range(1, 23)]\n",
    "rf_q_pandas = rf_q.to_pandas() # Convert cuDF to pandas DataFrame\n",
    "rf_q_pandas['chrom'] = pd.Categorical(rf_q_pandas['chrom'], \n",
    "                                      categories=chrom_order, ordered=True)\n",
    "rf_q_sorted = rf_q_pandas.sort_values('chrom')"
   ]
  },
  {
   "cell_type": "markdown",
   "id": "667a99da-e551-47f5-b99a-2447a675e411",
   "metadata": {},
   "source": [
    "## Create and save the plot"
   ]
  },
  {
   "cell_type": "code",
   "execution_count": null,
   "id": "3aff334a-b851-4c6a-b3e3-56521ccaf7f0",
   "metadata": {},
   "outputs": [],
   "source": [
    "plt.figure(figsize=(15, 8))\n",
    "sns.boxplot(x='chrom', y='AFR', data=rf_q_sorted, \n",
    "            color='lightgray', width=0.6)\n",
    "sns.stripplot(x='chrom', y='AFR', data=rf_q_sorted, \n",
    "              color='black', alpha=0.1, jitter=True)\n",
    "plt.axhline(y=0.5, color='black', linestyle='--', linewidth=1)\n",
    "plt.title('Global Ancestry (AFR) by Chromosome', fontsize=18)\n",
    "plt.xlabel('Chromosome', fontsize=14)\n",
    "plt.ylabel('African Genetic Ancestry', fontsize=14)\n",
    "plt.xticks(rotation=45, fontsize=12)\n",
    "plt.yticks(fontsize=12)\n",
    "plt.tight_layout()"
   ]
  },
  {
   "cell_type": "markdown",
   "id": "ec5ca324-9d13-4db1-b1ff-c883cbb2ae88",
   "metadata": {},
   "source": [
    "## Mean and median African ancestry proportion"
   ]
  },
  {
   "cell_type": "code",
   "execution_count": null,
   "id": "4b0d7bc9-489e-4096-b4da-a210330fb790",
   "metadata": {},
   "outputs": [],
   "source": [
    "rf_q_sorted.groupby(\"chrom\").agg({\"AFR\": [\"mean\", \"median\"]})"
   ]
  },
  {
   "cell_type": "code",
   "execution_count": null,
   "id": "d37d7c4a-8b89-4508-a0dc-4062bb109fc2",
   "metadata": {},
   "outputs": [],
   "source": [
    "print(rf_q_sorted.AFR.mean(), rf_q_sorted.AFR.median())"
   ]
  },
  {
   "cell_type": "markdown",
   "id": "dc5b3dda-2c6a-4386-b673-b184a3d278fb",
   "metadata": {},
   "source": [
    "**Select chromosome with:**\n",
    "  * High African Ancestry -- chromosome 13\n",
    "  * Low African Ancestry -- chromosome 19\n",
    "  * Average African Ancestry -- chromosome 16"
   ]
  },
  {
   "cell_type": "markdown",
   "id": "427eb677-b23d-44b8-8992-0dc48a32dffd",
   "metadata": {},
   "source": [
    "# Prepare data"
   ]
  },
  {
   "cell_type": "markdown",
   "id": "a39b8b10-5b4a-43cf-b9b9-fd66765c4e07",
   "metadata": {},
   "source": [
    "## Helper functions"
   ]
  },
  {
   "cell_type": "code",
   "execution_count": null,
   "id": "1522b753-de35-4d7b-afe1-d23106884cac",
   "metadata": {},
   "outputs": [],
   "source": [
    "import dask.dataframe as dd\n",
    "from multiprocessing import cpu_count"
   ]
  },
  {
   "cell_type": "code",
   "execution_count": null,
   "id": "a59e8ae0-3778-47be-b851-ae6b60f75edb",
   "metadata": {},
   "outputs": [],
   "source": [
    "try:\n",
    "    from torch.cuda import is_available\n",
    "except ModuleNotFoundError as e:\n",
    "    print(\"Warning: PyTorch is not installed. Using CPU!\")\n",
    "    def is_available():\n",
    "        return False\n"
   ]
  },
  {
   "cell_type": "code",
   "execution_count": null,
   "id": "75cb00bb-dbd5-4ab4-a335-67656ab6fca8",
   "metadata": {},
   "outputs": [],
   "source": [
    "def _get_pops(rf_q):\n",
    "    return rf_q.drop([\"sample_id\", \"chrom\"], axis=1).columns.values\n",
    "\n",
    "\n",
    "def _get_sample_names(rf_q):\n",
    "    if is_available():\n",
    "        return rf_q.sample_id.unique().to_arrow()\n",
    "    else:\n",
    "        return rf_q.sample_id.unique()"
   ]
  },
  {
   "cell_type": "markdown",
   "id": "ae919294-8f11-4e29-9149-80a8a598e71a",
   "metadata": {},
   "source": [
    "## Define column names"
   ]
  },
  {
   "cell_type": "code",
   "execution_count": null,
   "id": "32edc7fd-a2ef-4d34-bb17-da619def6b23",
   "metadata": {},
   "outputs": [],
   "source": [
    "pops = _get_pops(rf_q)\n",
    "sample_ids = _get_sample_names(rf_q)"
   ]
  },
  {
   "cell_type": "markdown",
   "id": "4abd163b-bc8b-4608-beae-5a641a1b0cff",
   "metadata": {},
   "source": [
    "## Convert data to dask dataframe"
   ]
  },
  {
   "cell_type": "code",
   "execution_count": null,
   "id": "0d223fb2-ecfc-49b3-a585-c885c51c862b",
   "metadata": {},
   "outputs": [],
   "source": [
    "parts = cpu_count()\n",
    "ncols = admix.shape[1] // len(pops)\n",
    "ddf = dd.from_pandas(loci.to_pandas(), npartitions=parts)\n",
    "data_matrix = admix[:, :ncols] # select the first pop only (pop2 is just 1-pop1)\n",
    "dask_df = dd.from_dask_array(data_matrix, columns=sample_ids)"
   ]
  },
  {
   "cell_type": "markdown",
   "id": "6e9ac342-64fb-4fe7-9416-ff4958fd1d54",
   "metadata": {},
   "source": [
    "## Combine loci with haplotype data"
   ]
  },
  {
   "cell_type": "code",
   "execution_count": null,
   "id": "44b83265-6fc7-48b7-9ec3-12d77bf46cb0",
   "metadata": {},
   "outputs": [],
   "source": [
    "ddf = dd.concat([ddf, dask_df], axis=1)\n",
    "del dask_df # remove for memory consumption"
   ]
  },
  {
   "cell_type": "markdown",
   "id": "904e3c46-de00-4155-8a4d-e93520c80825",
   "metadata": {},
   "source": [
    "## Select chromosomes"
   ]
  },
  {
   "cell_type": "code",
   "execution_count": null,
   "id": "0c4170fa-5b76-4c93-aefe-c56a9725b70f",
   "metadata": {},
   "outputs": [],
   "source": [
    "chrom13 = ddf[ddf[\"chromosome\"] == \"chr13\"]\n",
    "chrom16 = ddf[ddf[\"chromosome\"] == \"chr16\"]\n",
    "chrom19 = ddf[ddf[\"chromosome\"] == \"chr19\"]\n",
    "del ddf"
   ]
  },
  {
   "cell_type": "markdown",
   "id": "9402017e-70dd-4d00-aa8c-6ceee5095e98",
   "metadata": {},
   "source": [
    "# Plot a section of each chromosome"
   ]
  },
  {
   "cell_type": "markdown",
   "id": "bf30ad4c-fc10-4b06-bc86-041497125b09",
   "metadata": {},
   "source": [
    "## Helper function"
   ]
  },
  {
   "cell_type": "code",
   "execution_count": null,
   "id": "6281e611-5b48-4eff-be56-e66cedb0bf3c",
   "metadata": {},
   "outputs": [],
   "source": [
    "from numpy import random"
   ]
  },
  {
   "cell_type": "code",
   "execution_count": null,
   "id": "a210960c-2b0a-400d-b63a-a2e5b236cfd7",
   "metadata": {},
   "outputs": [],
   "source": [
    "def select_random_section(df, section_size=10000):\n",
    "    # Get the minimum and maximum positions\n",
    "    min_pos = df['physical_position'].min().compute()\n",
    "    max_pos = df['physical_position'].max().compute()\n",
    "    # Randomly select a start position\n",
    "    start_pos = random.randint(min_pos, max_pos - section_size)\n",
    "    end_pos = start_pos + section_size\n",
    "    # Filter the DataFrame for the selected section\n",
    "    section = df[(df['physical_position'] >= start_pos) & (df['physical_position'] < end_pos)]\n",
    "    ##section = section.melt(id_vars=[\"chromosome\", \"physical_position\", \"i\"], \n",
    "    ##                       var_name=\"BrNum\", value_name=\"Haplotypes\")\n",
    "    return section.compute()  # Compute to bring data into memory\n",
    "\n",
    "\n",
    "def plot_section(df, section_size, fname, chrom):\n",
    "    selected_section = select_random_section(df, section_size)\n",
    "    selected_section = selected_section.sort_values(\"physical_position\")\n",
    "    plt.figure(figsize=(9, 2))\n",
    "    sns.scatterplot(data=selected_section, x='physical_position', y='Br2585', \n",
    "                    color='black', legend=False, s=20)\n",
    "    plt.title(f'Chromosome {chrom} Section Plot (Positions {selected_section[\"physical_position\"].min()} to {selected_section[\"physical_position\"].max()})', fontsize=16)\n",
    "    plt.xlabel('Chromosome Position', fontsize=12)\n",
    "    plt.ylabel('Haplotypes', fontsize=12)\n",
    "    plt.yticks([0, 1, 2])\n",
    "    plt.grid(True, linestyle='--', alpha=0.5)\n",
    "    plt.tight_layout()\n",
    "    plt.savefig(f'local_ancestry.{fname}.pdf', dpi=300, bbox_inches='tight')"
   ]
  },
  {
   "cell_type": "markdown",
   "id": "6c95ef65-a21e-4cf9-8051-8c77e1a5afc3",
   "metadata": {},
   "source": [
    "## Seed for reproducibility"
   ]
  },
  {
   "cell_type": "code",
   "execution_count": null,
   "id": "c6d39ca2-a7df-4b78-9247-88683a05f82c",
   "metadata": {},
   "outputs": [],
   "source": [
    "seed_value = 13\n",
    "random.seed(seed_value)\n",
    "section_size = 1000000"
   ]
  },
  {
   "cell_type": "markdown",
   "id": "4c59e8e8-e029-4ee3-b5bf-1d764fde9d09",
   "metadata": {},
   "source": [
    "## Plotting"
   ]
  },
  {
   "cell_type": "code",
   "execution_count": null,
   "id": "a5abd133-2ef4-420d-8419-46fc9718571a",
   "metadata": {},
   "outputs": [],
   "source": [
    "plot_section(chrom13, section_size, \"chr13\", \"13\")\n",
    "plot_section(chrom16, section_size, \"chr16\", \"16\")\n",
    "plot_section(chrom19, section_size, \"chr19\", \"19\")"
   ]
  },
  {
   "cell_type": "markdown",
   "id": "568aea8c-eb62-4334-8b1c-e04a2929a27f",
   "metadata": {},
   "source": [
    "# Session information"
   ]
  },
  {
   "cell_type": "code",
   "execution_count": null,
   "id": "c07e9b12-28e4-4326-a341-b048e27f62e1",
   "metadata": {},
   "outputs": [],
   "source": [
    "session_info.show()"
   ]
  }
 ],
 "metadata": {
  "kernelspec": {
   "display_name": "Python 3 (ipykernel)",
   "language": "python",
   "name": "python3"
  },
  "language_info": {
   "codemirror_mode": {
    "name": "ipython",
    "version": 3
   },
   "file_extension": ".py",
   "mimetype": "text/x-python",
   "name": "python",
   "nbconvert_exporter": "python",
   "pygments_lexer": "ipython3",
   "version": "3.12.4"
  }
 },
 "nbformat": 4,
 "nbformat_minor": 5
}
