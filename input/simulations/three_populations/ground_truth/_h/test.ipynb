{
 "cells": [
  {
   "cell_type": "code",
   "execution_count": 1,
   "metadata": {},
   "outputs": [],
   "source": [
    "# --------------------------\n",
    "# Load Libraries\n",
    "# --------------------------\n",
    "\n",
    "# Standard libraries\n",
    "import os\n",
    "import session_info\n",
    "from pyhere import here\n",
    "from pathlib import Path\n",
    "\n",
    "# Project specific\n",
    "import gzip\n",
    "import pandas as pd\n",
    "from typing import List, Dict, Tuple\n",
    "import ast\n",
    "import argparse\n",
    "import sys\n",
    "\n",
    "\n",
    "# --------------------------\n",
    "# Parsing the file data\n",
    "# --------------------------\n",
    "\n",
    "def open_vcf_gz(path: str):\n",
    "    return gzip.open(path, 'rt') if str(path).endswith('.gz') else open(path, 'r')\n",
    "\n",
    "def parse_header_and_ancestries(path) -> Tuple[dict, List[str], List[str]]:\n",
    "    ancestries = None\n",
    "    sample_names = None\n",
    "    with open_vcf_gz(path) as f:\n",
    "        for line in f:\n",
    "            if line.startswith('##'):\n",
    "                if 'Ancestries' in line:\n",
    "                    try:\n",
    "                        ancestries = ast.literal_eval(line.split(':', 1)[1].strip())\n",
    "                    except Exception:\n",
    "                        ancestries = None             \n",
    "                continue\n",
    "            if line.startswith('#CHROM'):\n",
    "                parts = line.strip().split('\\t')\n",
    "                try:\n",
    "                    start_idx = parts.index('Sample_1')\n",
    "                except ValueError:\n",
    "                    # fallback: use previous default slicing\n",
    "                    start_idx = 2\n",
    "                sample_names = parts[start_idx:]\n",
    "                break\n",
    "    return ancestries, sample_names\n",
    "\n",
    "def parse_ancestry_token(token: str) -> List[int]:\n",
    "    if token is None or token == '.':\n",
    "        return []\n",
    "    token = token.split(':', 1)[0]\n",
    "    parts = token.split('|')\n",
    "    try:\n",
    "        return [int(x) for x in parts]\n",
    "    except ValueError:\n",
    "        # if parsing fails, return empty to indicate missing data\n",
    "        return []\n"
   ]
  },
  {
   "cell_type": "code",
   "execution_count": 4,
   "metadata": {},
   "outputs": [
    {
     "name": "stdout",
     "output_type": "stream",
     "text": [
      ".\n",
      "/gpfs/projects/p32505/users/manuel/rfmix_reader-benchmarking\n"
     ]
    }
   ],
   "source": [
    "print(here())"
   ]
  },
  {
   "cell_type": "code",
   "execution_count": 29,
   "metadata": {},
   "outputs": [
    {
     "name": "stdout",
     "output_type": "stream",
     "text": [
      "Ancestries: ['CEU', 'PUR', 'YRI']\n",
      "Samples: ['Sample_1', 'Sample_2', 'Sample_3', 'Sample_4', 'Sample_5', 'Sample_6', 'Sample_7', 'Sample_8', 'Sample_9', 'Sample_10', 'Sample_11', 'Sample_12', 'Sample_13', 'Sample_14', 'Sample_15', 'Sample_16', 'Sample_17', 'Sample_18', 'Sample_19', 'Sample_20', 'Sample_21', 'Sample_22', 'Sample_23', 'Sample_24', 'Sample_25', 'Sample_26', 'Sample_27', 'Sample_28', 'Sample_29', 'Sample_30', 'Sample_31', 'Sample_32', 'Sample_33', 'Sample_34', 'Sample_35', 'Sample_36', 'Sample_37', 'Sample_38', 'Sample_39', 'Sample_40', 'Sample_41', 'Sample_42', 'Sample_43', 'Sample_44', 'Sample_45', 'Sample_46', 'Sample_47', 'Sample_48', 'Sample_49', 'Sample_50', 'Sample_51', 'Sample_52', 'Sample_53', 'Sample_54', 'Sample_55', 'Sample_56', 'Sample_57', 'Sample_58', 'Sample_59', 'Sample_60', 'Sample_61', 'Sample_62', 'Sample_63', 'Sample_64', 'Sample_65', 'Sample_66', 'Sample_67', 'Sample_68', 'Sample_69', 'Sample_70', 'Sample_71', 'Sample_72', 'Sample_73', 'Sample_74', 'Sample_75', 'Sample_76', 'Sample_77', 'Sample_78', 'Sample_79', 'Sample_80', 'Sample_81', 'Sample_82', 'Sample_83', 'Sample_84', 'Sample_85', 'Sample_86', 'Sample_87', 'Sample_88', 'Sample_89', 'Sample_90', 'Sample_91', 'Sample_92', 'Sample_93', 'Sample_94', 'Sample_95', 'Sample_96', 'Sample_97', 'Sample_98', 'Sample_99', 'Sample_100']\n"
     ]
    }
   ],
   "source": [
    "# Path to your VCF (gzipped or not)\n",
    "vcf_path = \"../_m/chr22.vcf.gz\"\n",
    "\n",
    "# Parse header and ancestry info\n",
    "ancestries, sample_names = parse_header_and_ancestries(vcf_path)\n",
    "\n",
    "print(\"Ancestries:\", ancestries)\n",
    "print(\"Samples:\", sample_names)\n"
   ]
  },
  {
   "cell_type": "code",
   "execution_count": 8,
   "metadata": {},
   "outputs": [
    {
     "data": {
      "text/plain": [
       "<_io.TextIOWrapper name='../_m/chr11.vcf.gz' encoding='UTF-8'>"
      ]
     },
     "execution_count": 8,
     "metadata": {},
     "output_type": "execute_result"
    }
   ],
   "source": [
    "test = open_vcf_gz(vcf_path)\n",
    "\n",
    "test"
   ]
  },
  {
   "cell_type": "code",
   "execution_count": null,
   "metadata": {},
   "outputs": [],
   "source": []
  },
  {
   "cell_type": "code",
   "execution_count": null,
   "metadata": {},
   "outputs": [],
   "source": []
  },
  {
   "cell_type": "code",
   "execution_count": null,
   "metadata": {},
   "outputs": [],
   "source": []
  },
  {
   "cell_type": "code",
   "execution_count": null,
   "metadata": {},
   "outputs": [],
   "source": []
  },
  {
   "cell_type": "code",
   "execution_count": null,
   "metadata": {},
   "outputs": [],
   "source": []
  }
 ],
 "metadata": {
  "kernelspec": {
   "display_name": "Python conda env",
   "language": "python",
   "name": "python-conda-env"
  },
  "language_info": {
   "codemirror_mode": {
    "name": "ipython",
    "version": 3
   },
   "file_extension": ".py",
   "mimetype": "text/x-python",
   "name": "python",
   "nbconvert_exporter": "python",
   "pygments_lexer": "ipython3",
   "version": "3.12.9"
  }
 },
 "nbformat": 4,
 "nbformat_minor": 2
}
