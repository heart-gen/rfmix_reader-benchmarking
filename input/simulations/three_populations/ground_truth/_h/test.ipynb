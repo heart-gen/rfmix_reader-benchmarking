{
 "cells": [
  {
   "cell_type": "code",
   "execution_count": 1,
   "metadata": {},
   "outputs": [
    {
     "data": {
      "text/html": [
       "<style>.container { width:100% !important; }</style>"
      ],
      "text/plain": [
       "<IPython.core.display.HTML object>"
      ]
     },
     "metadata": {},
     "output_type": "display_data"
    },
    {
     "data": {
      "text/html": [
       "<style>div.output_scroll { height: 160em;} </style>"
      ],
      "text/plain": [
       "<IPython.core.display.HTML object>"
      ]
     },
     "metadata": {},
     "output_type": "display_data"
    }
   ],
   "source": [
    "#####################################\n",
    "#\n",
    "#   Load libraries\n",
    "#\n",
    "#####################################\n",
    "\n",
    "from IPython.core.interactiveshell import InteractiveShell\n",
    "from IPython.display import display, HTML\n",
    "\n",
    "# Project-specific Libraries\n",
    "import numpy as np\n",
    "import pandas as pd\n",
    "from pathlib import Path\n",
    "import pyhere\n",
    "import os\n",
    "import rfmix_reader\n",
    "\n",
    "#####################################\n",
    "#\n",
    "#   Set Screen Attributes\n",
    "#\n",
    "#####################################\n",
    "\n",
    "InteractiveShell.ast_node_interactivity = \"all\"\n",
    "\n",
    "# set cell width\n",
    "display(HTML(\"<style>.container { width:100% !important; }</style>\"))\n",
    "\n",
    "# set cell output window height\n",
    "display(HTML(\"<style>div.output_scroll { height: 160em;} </style>\"))"
   ]
  },
  {
   "cell_type": "code",
   "execution_count": 2,
   "metadata": {},
   "outputs": [
    {
     "name": "stdout",
     "output_type": "stream",
     "text": [
      "/gpfs/projects/p32505/users/manuel/rfmix_reader-benchmarking/input/simulations/three_populations/ground_truth/_h\n",
      "/gpfs/projects/p32505/users/manuel/rfmix_reader-benchmarking\n",
      "/gpfs/projects/p32505/users/manuel/rfmix_reader-benchmarking\n"
     ]
    }
   ],
   "source": [
    "print(os.getcwd())\n",
    "print(pyhere.here())\n",
    "print(Path(pyhere.here()))"
   ]
  },
  {
   "cell_type": "markdown",
   "metadata": {},
   "source": [
    "## RFMix-Reader: Three-population data"
   ]
  },
  {
   "cell_type": "code",
   "execution_count": 11,
   "metadata": {},
   "outputs": [
    {
     "name": "stdout",
     "output_type": "stream",
     "text": [
      "25.08.00\n",
      "Tue Oct 14 13:30:48 2025       \n",
      "+-----------------------------------------------------------------------------------------+\n",
      "| NVIDIA-SMI 570.86.15              Driver Version: 570.86.15      CUDA Version: 12.8     |\n",
      "|-----------------------------------------+------------------------+----------------------+\n",
      "| GPU  Name                 Persistence-M | Bus-Id          Disp.A | Volatile Uncorr. ECC |\n",
      "| Fan  Temp   Perf          Pwr:Usage/Cap |           Memory-Usage | GPU-Util  Compute M. |\n",
      "|                                         |                        |               MIG M. |\n",
      "|=========================================+========================+======================|\n",
      "|   0  NVIDIA A100-SXM4-80GB          On  |   00000000:4B:00.0 Off |                    0 |\n",
      "| N/A   45C    P0             81W /  500W |     433MiB /  81920MiB |      0%      Default |\n",
      "|                                         |                        |             Disabled |\n",
      "+-----------------------------------------+------------------------+----------------------+\n",
      "                                                                                         \n",
      "+-----------------------------------------------------------------------------------------+\n",
      "| Processes:                                                                              |\n",
      "|  GPU   GI   CI              PID   Type   Process name                        GPU Memory |\n",
      "|        ID   ID                                                               Usage      |\n",
      "|=========================================================================================|\n",
      "|    0   N/A  N/A         3378836      C   ...p32505/opt/envs/ml/bin/python        422MiB |\n",
      "+-----------------------------------------------------------------------------------------+\n"
     ]
    }
   ],
   "source": [
    "import cudf\n",
    "print(cudf.__version__)\n",
    "!nvidia-smi\n"
   ]
  },
  {
   "cell_type": "code",
   "execution_count": 12,
   "metadata": {},
   "outputs": [
    {
     "name": "stdout",
     "output_type": "stream",
     "text": [
      "GPU 0: NVIDIA A100-SXM4-80GB\n",
      "  Total memory: 79.25 GB\n",
      "  CUDA capability: 8.0\n",
      "Multiple RFMIX file sets read in this order: ['chr1', 'chr10', 'chr11', 'chr12', 'chr13', 'chr14', 'chr15', 'chr16', 'chr17', 'chr18', 'chr19', 'chr2', 'chr20', 'chr21', 'chr22', 'chr3', 'chr4', 'chr5', 'chr6', 'chr7', 'chr8', 'chr9']\n"
     ]
    },
    {
     "name": "stderr",
     "output_type": "stream",
     "text": [
      "\n",
      "\n",
      "Mapping loci information:   0%|                                                                              | 0/22 [00:00<?, ?it/s]\u001b[A\u001b[A"
     ]
    },
    {
     "ename": "OSError",
     "evalue": "Error reading file /projects/p32505/users/manuel/rfmix_reader-benchmarking/input/simulations/three_populations/_m/rfmix-files/chr1.fb.tsv.gz: CUDF failure at: /__w/cudf/cudf/cpp/src/io/comp/decompression.cpp:275: Error in DEFLATE stream: Z_STREAM_END not encountered",
     "output_type": "error",
     "traceback": [
      "\u001b[31m---------------------------------------------------------------------------\u001b[39m",
      "\u001b[31mRuntimeError\u001b[39m                              Traceback (most recent call last)",
      "\u001b[36mFile \u001b[39m\u001b[32m/gpfs/projects/b1213/users/kynon/software/rfmix_reader/rfmix_reader/_read_rfmix.py:137\u001b[39m, in \u001b[36m_read_tsv\u001b[39m\u001b[34m(fn)\u001b[39m\n\u001b[32m    136\u001b[39m \u001b[38;5;28;01mif\u001b[39;00m gpu_available():\n\u001b[32m--> \u001b[39m\u001b[32m137\u001b[39m     df = \u001b[43mread_csv\u001b[49m\u001b[43m(\u001b[49m\u001b[43mfn\u001b[49m\u001b[43m,\u001b[49m\u001b[43m \u001b[49m\u001b[43msep\u001b[49m\u001b[43m=\u001b[49m\u001b[33;43m\"\u001b[39;49m\u001b[38;5;130;43;01m\\t\u001b[39;49;00m\u001b[33;43m\"\u001b[39;49m\u001b[43m,\u001b[49m\u001b[43m \u001b[49m\u001b[43mheader\u001b[49m\u001b[43m=\u001b[49m\u001b[32;43m0\u001b[39;49m\u001b[43m,\u001b[49m\u001b[43m \u001b[49m\u001b[43musecols\u001b[49m\u001b[43m=\u001b[49m\u001b[38;5;28;43mlist\u001b[39;49m\u001b[43m(\u001b[49m\u001b[43mheader\u001b[49m\u001b[43m.\u001b[49m\u001b[43mkeys\u001b[49m\u001b[43m(\u001b[49m\u001b[43m)\u001b[49m\u001b[43m)\u001b[49m\u001b[43m,\u001b[49m\n\u001b[32m    138\u001b[39m \u001b[43m                  \u001b[49m\u001b[43mdtype\u001b[49m\u001b[43m=\u001b[49m\u001b[43mheader\u001b[49m\u001b[43m,\u001b[49m\u001b[43m \u001b[49m\u001b[43mcomment\u001b[49m\u001b[43m=\u001b[49m\u001b[33;43m\"\u001b[39;49m\u001b[33;43m#\u001b[39;49m\u001b[33;43m\"\u001b[39;49m\u001b[43m)\u001b[49m\n\u001b[32m    139\u001b[39m \u001b[38;5;28;01melse\u001b[39;00m:\n",
      "\u001b[36mFile \u001b[39m\u001b[32m/gpfs/projects/p32505/opt/envs/ml/lib/python3.12/site-packages/cudf/utils/performance_tracking.py:51\u001b[39m, in \u001b[36m_performance_tracking.<locals>.wrapper\u001b[39m\u001b[34m(*args, **kwargs)\u001b[39m\n\u001b[32m     44\u001b[39m     stack.enter_context(\n\u001b[32m     45\u001b[39m         nvtx.annotate(\n\u001b[32m     46\u001b[39m             message=func.\u001b[34m__qualname__\u001b[39m,\n\u001b[32m   (...)\u001b[39m\u001b[32m     49\u001b[39m         )\n\u001b[32m     50\u001b[39m     )\n\u001b[32m---> \u001b[39m\u001b[32m51\u001b[39m \u001b[38;5;28;01mreturn\u001b[39;00m \u001b[43mfunc\u001b[49m\u001b[43m(\u001b[49m\u001b[43m*\u001b[49m\u001b[43margs\u001b[49m\u001b[43m,\u001b[49m\u001b[43m \u001b[49m\u001b[43m*\u001b[49m\u001b[43m*\u001b[49m\u001b[43mkwargs\u001b[49m\u001b[43m)\u001b[49m\n",
      "\u001b[36mFile \u001b[39m\u001b[32m/gpfs/projects/p32505/opt/envs/ml/lib/python3.12/site-packages/cudf/io/csv.py:271\u001b[39m, in \u001b[36mread_csv\u001b[39m\u001b[34m(filepath_or_buffer, sep, delimiter, header, names, index_col, usecols, prefix, mangle_dupe_cols, dtype, true_values, false_values, skipinitialspace, skiprows, skipfooter, nrows, na_values, keep_default_na, na_filter, skip_blank_lines, parse_dates, dayfirst, compression, thousands, decimal, lineterminator, quotechar, quoting, doublequote, comment, delim_whitespace, byte_range, storage_options, bytes_per_thread)\u001b[39m\n\u001b[32m    269\u001b[39m     options.set_na_values([\u001b[38;5;28mstr\u001b[39m(val) \u001b[38;5;28;01mfor\u001b[39;00m val \u001b[38;5;129;01min\u001b[39;00m na_values])\n\u001b[32m--> \u001b[39m\u001b[32m271\u001b[39m table_w_meta = \u001b[43mplc\u001b[49m\u001b[43m.\u001b[49m\u001b[43mio\u001b[49m\u001b[43m.\u001b[49m\u001b[43mcsv\u001b[49m\u001b[43m.\u001b[49m\u001b[43mread_csv\u001b[49m\u001b[43m(\u001b[49m\u001b[43moptions\u001b[49m\u001b[43m)\u001b[49m\n\u001b[32m    272\u001b[39m df = DataFrame.from_pylibcudf(table_w_meta)\n",
      "\u001b[36mFile \u001b[39m\u001b[32m/gpfs/projects/p32505/opt/envs/ml/lib/python3.12/site-packages/pylibcudf/io/csv.pyx:656\u001b[39m, in \u001b[36mpylibcudf.io.csv.read_csv\u001b[39m\u001b[34m()\u001b[39m\n",
      "\u001b[36mFile \u001b[39m\u001b[32m/gpfs/projects/p32505/opt/envs/ml/lib/python3.12/site-packages/pylibcudf/io/csv.pyx:678\u001b[39m, in \u001b[36mpylibcudf.io.csv.read_csv\u001b[39m\u001b[34m()\u001b[39m\n",
      "\u001b[31mRuntimeError\u001b[39m: CUDF failure at: /__w/cudf/cudf/cpp/src/io/comp/decompression.cpp:275: Error in DEFLATE stream: Z_STREAM_END not encountered",
      "\nDuring handling of the above exception, another exception occurred:\n",
      "\u001b[31mOSError\u001b[39m                                   Traceback (most recent call last)",
      "\u001b[36mCell\u001b[39m\u001b[36m \u001b[39m\u001b[32mIn[12]\u001b[39m\u001b[32m, line 3\u001b[39m\n\u001b[32m      1\u001b[39m rfmix_path = (\u001b[33m\"\u001b[39m\u001b[33m/projects/p32505/users/manuel/rfmix_reader-benchmarking/input/simulations/three_populations/_m/rfmix-files/\u001b[39m\u001b[33m\"\u001b[39m)\n\u001b[32m----> \u001b[39m\u001b[32m3\u001b[39m loci, rf_q, admix = \u001b[43mrfmix_reader\u001b[49m\u001b[43m.\u001b[49m\u001b[43mread_rfmix\u001b[49m\u001b[43m(\u001b[49m\u001b[43mfile_prefix\u001b[49m\u001b[43m \u001b[49m\u001b[43m=\u001b[49m\u001b[43m \u001b[49m\u001b[43mrfmix_path\u001b[49m\u001b[43m,\u001b[49m\n\u001b[32m      4\u001b[39m \u001b[43m                                            \u001b[49m\u001b[43mverbose\u001b[49m\u001b[43m \u001b[49m\u001b[43m=\u001b[49m\u001b[43m \u001b[49m\u001b[38;5;28;43;01mTrue\u001b[39;49;00m\u001b[43m)\u001b[49m\n",
      "\u001b[36mFile \u001b[39m\u001b[32m/gpfs/projects/b1213/users/kynon/software/rfmix_reader/rfmix_reader/_read_rfmix.py:85\u001b[39m, in \u001b[36mread_rfmix\u001b[39m\u001b[34m(file_prefix, binary_dir, generate_binary, verbose)\u001b[39m\n\u001b[32m     83\u001b[39m \u001b[38;5;66;03m# Load loci information\u001b[39;00m\n\u001b[32m     84\u001b[39m pbar = tqdm(desc=\u001b[33m\"\u001b[39m\u001b[33mMapping loci information\u001b[39m\u001b[33m\"\u001b[39m, total=\u001b[38;5;28mlen\u001b[39m(fn), disable=\u001b[38;5;129;01mnot\u001b[39;00m verbose)\n\u001b[32m---> \u001b[39m\u001b[32m85\u001b[39m loci_dfs = \u001b[43m_read_file\u001b[49m\u001b[43m(\u001b[49m\u001b[43mfn\u001b[49m\u001b[43m,\u001b[49m\u001b[43m \u001b[49m\u001b[38;5;28;43;01mlambda\u001b[39;49;00m\u001b[43m \u001b[49m\u001b[43mf\u001b[49m\u001b[43m:\u001b[49m\u001b[43m \u001b[49m\u001b[43m_read_loci\u001b[49m\u001b[43m(\u001b[49m\u001b[43mf\u001b[49m\u001b[43m[\u001b[49m\u001b[33;43m\"\u001b[39;49m\u001b[33;43mfb.tsv\u001b[39;49m\u001b[33;43m\"\u001b[39;49m\u001b[43m]\u001b[49m\u001b[43m)\u001b[49m\u001b[43m,\u001b[49m\u001b[43m \u001b[49m\u001b[43mpbar\u001b[49m\u001b[43m)\u001b[49m\n\u001b[32m     86\u001b[39m pbar.close()\n\u001b[32m     88\u001b[39m \u001b[38;5;66;03m# Adjust loci indices and concatenate\u001b[39;00m\n",
      "\u001b[36mFile \u001b[39m\u001b[32m/gpfs/projects/b1213/users/kynon/software/rfmix_reader/rfmix_reader/_utils.py:49\u001b[39m, in \u001b[36m_read_file\u001b[39m\u001b[34m(fn, read_func, pbar)\u001b[39m\n\u001b[32m     47\u001b[39m data = [];\n\u001b[32m     48\u001b[39m \u001b[38;5;28;01mfor\u001b[39;00m file_name \u001b[38;5;129;01min\u001b[39;00m fn:\n\u001b[32m---> \u001b[39m\u001b[32m49\u001b[39m     data.append(\u001b[43mread_func\u001b[49m\u001b[43m(\u001b[49m\u001b[43mfile_name\u001b[49m\u001b[43m)\u001b[49m)\n\u001b[32m     50\u001b[39m     \u001b[38;5;28;01mif\u001b[39;00m pbar:\n\u001b[32m     51\u001b[39m         pbar.update(\u001b[32m1\u001b[39m)\n",
      "\u001b[36mFile \u001b[39m\u001b[32m/gpfs/projects/b1213/users/kynon/software/rfmix_reader/rfmix_reader/_read_rfmix.py:85\u001b[39m, in \u001b[36mread_rfmix.<locals>.<lambda>\u001b[39m\u001b[34m(f)\u001b[39m\n\u001b[32m     83\u001b[39m \u001b[38;5;66;03m# Load loci information\u001b[39;00m\n\u001b[32m     84\u001b[39m pbar = tqdm(desc=\u001b[33m\"\u001b[39m\u001b[33mMapping loci information\u001b[39m\u001b[33m\"\u001b[39m, total=\u001b[38;5;28mlen\u001b[39m(fn), disable=\u001b[38;5;129;01mnot\u001b[39;00m verbose)\n\u001b[32m---> \u001b[39m\u001b[32m85\u001b[39m loci_dfs = _read_file(fn, \u001b[38;5;28;01mlambda\u001b[39;00m f: \u001b[43m_read_loci\u001b[49m\u001b[43m(\u001b[49m\u001b[43mf\u001b[49m\u001b[43m[\u001b[49m\u001b[33;43m\"\u001b[39;49m\u001b[33;43mfb.tsv\u001b[39;49m\u001b[33;43m\"\u001b[39;49m\u001b[43m]\u001b[49m\u001b[43m)\u001b[49m, pbar)\n\u001b[32m     86\u001b[39m pbar.close()\n\u001b[32m     88\u001b[39m \u001b[38;5;66;03m# Adjust loci indices and concatenate\u001b[39;00m\n",
      "\u001b[36mFile \u001b[39m\u001b[32m/gpfs/projects/b1213/users/kynon/software/rfmix_reader/rfmix_reader/_read_rfmix.py:178\u001b[39m, in \u001b[36m_read_loci\u001b[39m\u001b[34m(fn)\u001b[39m\n\u001b[32m    165\u001b[39m \u001b[38;5;28;01mdef\u001b[39;00m\u001b[38;5;250m \u001b[39m\u001b[34m_read_loci\u001b[39m(fn: \u001b[38;5;28mstr\u001b[39m) -> DataFrame:\n\u001b[32m    166\u001b[39m \u001b[38;5;250m    \u001b[39m\u001b[33;03m\"\"\"\u001b[39;00m\n\u001b[32m    167\u001b[39m \u001b[33;03m    Read loci information from a TSV file and add a sequential index column.\u001b[39;00m\n\u001b[32m    168\u001b[39m \n\u001b[32m   (...)\u001b[39m\u001b[32m    176\u001b[39m \u001b[33;03m               additional 'i' column for indexing.\u001b[39;00m\n\u001b[32m    177\u001b[39m \u001b[33;03m    \"\"\"\u001b[39;00m\n\u001b[32m--> \u001b[39m\u001b[32m178\u001b[39m     df = \u001b[43m_read_tsv\u001b[49m\u001b[43m(\u001b[49m\u001b[43mfn\u001b[49m\u001b[43m)\u001b[49m\n\u001b[32m    179\u001b[39m     df[\u001b[33m\"\u001b[39m\u001b[33mi\u001b[39m\u001b[33m\"\u001b[39m] = \u001b[38;5;28mrange\u001b[39m(df.shape[\u001b[32m0\u001b[39m])\n\u001b[32m    180\u001b[39m     \u001b[38;5;28;01mreturn\u001b[39;00m df\n",
      "\u001b[36mFile \u001b[39m\u001b[32m/gpfs/projects/b1213/users/kynon/software/rfmix_reader/rfmix_reader/_read_rfmix.py:154\u001b[39m, in \u001b[36m_read_tsv\u001b[39m\u001b[34m(fn)\u001b[39m\n\u001b[32m    152\u001b[39m     \u001b[38;5;28;01mraise\u001b[39;00m \u001b[38;5;167;01mFileNotFoundError\u001b[39;00m(\u001b[33mf\u001b[39m\u001b[33m\"\u001b[39m\u001b[33mFile \u001b[39m\u001b[38;5;132;01m{\u001b[39;00mfn\u001b[38;5;132;01m}\u001b[39;00m\u001b[33m not found.\u001b[39m\u001b[33m\"\u001b[39m)\n\u001b[32m    153\u001b[39m \u001b[38;5;28;01mexcept\u001b[39;00m \u001b[38;5;167;01mException\u001b[39;00m \u001b[38;5;28;01mas\u001b[39;00m e:\n\u001b[32m--> \u001b[39m\u001b[32m154\u001b[39m     \u001b[38;5;28;01mraise\u001b[39;00m \u001b[38;5;167;01mIOError\u001b[39;00m(\u001b[33mf\u001b[39m\u001b[33m\"\u001b[39m\u001b[33mError reading file \u001b[39m\u001b[38;5;132;01m{\u001b[39;00mfn\u001b[38;5;132;01m}\u001b[39;00m\u001b[33m: \u001b[39m\u001b[38;5;132;01m{\u001b[39;00me\u001b[38;5;132;01m}\u001b[39;00m\u001b[33m\"\u001b[39m)\n\u001b[32m    156\u001b[39m \u001b[38;5;66;03m# Validate that resulting DataFrame is correct type\u001b[39;00m\n\u001b[32m    157\u001b[39m \u001b[38;5;28;01mif\u001b[39;00m \u001b[38;5;129;01mnot\u001b[39;00m \u001b[38;5;28misinstance\u001b[39m(df, DataFrame):\n",
      "\u001b[31mOSError\u001b[39m: Error reading file /projects/p32505/users/manuel/rfmix_reader-benchmarking/input/simulations/three_populations/_m/rfmix-files/chr1.fb.tsv.gz: CUDF failure at: /__w/cudf/cudf/cpp/src/io/comp/decompression.cpp:275: Error in DEFLATE stream: Z_STREAM_END not encountered"
     ]
    }
   ],
   "source": [
    "rfmix_path = (\"/projects/p32505/users/manuel/rfmix_reader-benchmarking/input/simulations/three_populations/_m/rfmix-files/\")\n",
    "\n",
    "loci, rf_q, admix = rfmix_reader.read_rfmix(file_prefix = rfmix_path,\n",
    "                                            verbose = True)"
   ]
  }
 ],
 "metadata": {
  "kernelspec": {
   "display_name": "Python_lab_env",
   "language": "python",
   "name": "ml"
  },
  "language_info": {
   "codemirror_mode": {
    "name": "ipython",
    "version": 3
   },
   "file_extension": ".py",
   "mimetype": "text/x-python",
   "name": "python",
   "nbconvert_exporter": "python",
   "pygments_lexer": "ipython3",
   "version": "3.12.11"
  }
 },
 "nbformat": 4,
 "nbformat_minor": 2
}
