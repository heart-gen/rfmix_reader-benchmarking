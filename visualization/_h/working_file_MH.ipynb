{
 "cells": [
  {
   "cell_type": "code",
   "execution_count": 2,
   "metadata": {},
   "outputs": [
    {
     "name": "stderr",
     "output_type": "stream",
     "text": [
      "/gpfs/projects/p32505/opt/env/AI_env/lib/python3.12/site-packages/cudf/utils/gpu_utils.py:162: UserWarning: No NVIDIA GPU detected\n",
      "  warnings.warn(\"No NVIDIA GPU detected\")\n"
     ]
    }
   ],
   "source": [
    "## Script to visualize global ancestry\n",
    "import session_info\n",
    "from pyhere import here\n",
    "from pathlib import Path\n",
    "from rfmix_reader import (\n",
    "    read_rfmix,\n",
    "    generate_tagore_bed,\n",
    "    plot_local_ancestry_tagore\n",
    ")"
   ]
  },
  {
   "cell_type": "code",
   "execution_count": 3,
   "metadata": {},
   "outputs": [
    {
     "name": "stdout",
     "output_type": "stream",
     "text": [
      "/gpfs/projects/p32505/users/manuel/rfmix_reader-benchmarking\n"
     ]
    }
   ],
   "source": [
    "print(here())\n",
    "\n",
    "input/simulations/two_populations/ground_truth/_m"
   ]
  },
  {
   "cell_type": "markdown",
   "metadata": {},
   "source": [
    "## Local Ancestry:"
   ]
  },
  {
   "cell_type": "code",
   "execution_count": null,
   "metadata": {},
   "outputs": [],
   "source": [
    "def _load_two_pop_ground_truth():\n",
    "    prefix_path = Path(\n",
    "        here(\"input/simulations/two_populations/ground_truth/_m/\")\n",
    "    )\n",
    "    binary_dir = prefix_path / \"binary_files\"\n",
    "\n",
    "    if binary_dir.exists():\n",
    "        return read_rfmix(prefix_path, binary_dir=binary_dir)\n",
    "    else:\n",
    "        return read_rfmix(\n",
    "            prefix_path,\n",
    "            binary_dir=binary_dir,\n",
    "            generate_binary=True\n",
    "        )\n",
    "\n",
    "def main():\n",
    "    # General configuration\n",
    "    sample_num = 1\n",
    "    build = \"hg38\"\n",
    "    prefix = f\"local_ancestry.{build}\"\n",
    "\n",
    "    # Load the two-population ground truth data\n",
    "    loci, rf_q, admix = _load_two_pop_ground_truth()\n",
    "\n",
    "    # Generate BED dataframe for plotting\n",
    "    bed_df = generate_tagore_bed(loci, rf_q, admix, sample_num)\n",
    "\n",
    "    # Output file prefix\n",
    "    out_prefix = f\"{prefix}.ground_truth_2pop\"\n",
    "\n",
    "    # Plot in both PNG and PDF formats\n",
    "    for oformat in [\"png\", \"pdf\"]:\n",
    "        plot_local_ancestry_tagore(bed_df, out_prefix, build, oformat)\n",
    "\n",
    "    # Show session info\n",
    "    session_info.show()\n",
    "\n",
    "if __name__ == \"__main__\":\n",
    "    main()"
   ]
  },
  {
   "cell_type": "markdown",
   "metadata": {},
   "source": [
    "## Global Ancestry:"
   ]
  },
  {
   "cell_type": "code",
   "execution_count": null,
   "metadata": {},
   "outputs": [],
   "source": [
    "## Script to visualize global ancestry for TWO population ground-truth data\n",
    "\n",
    "import session_info\n",
    "from pyhere import here\n",
    "from pathlib import Path\n",
    "from rfmix_reader import (\n",
    "    read_rfmix,\n",
    "    plot_global_ancestry,\n",
    "    plot_ancestry_by_chromosome\n",
    ")\n",
    "\n",
    "def _load_two_pop_ground_truth():\n",
    "    prefix_path = Path(\n",
    "        here(\"input/simulations/two_populations/ground_truth/_m/\")\n",
    "    )\n",
    "    binary_dir = prefix_path / \"binary_files\"\n",
    "\n",
    "    if binary_dir.exists():\n",
    "        return read_rfmix(prefix_path, binary_dir=binary_dir)\n",
    "    else:\n",
    "        return read_rfmix(\n",
    "            prefix_path,\n",
    "            binary_dir=binary_dir,\n",
    "            generate_binary=True\n",
    "        )\n",
    "\n",
    "def main():\n",
    "    # Load the two-population ground truth data\n",
    "    _, rf_q, _ = _load_two_pop_ground_truth()\n",
    "\n",
    "    # Plot global ancestry\n",
    "    plot_global_ancestry(\n",
    "        rf_q,\n",
    "        dpi=300,\n",
    "        bbox_inches=\"tight\",\n",
    "        palette=\"Set1\",      # Two-pop palette\n",
    "        figsize=(6, 6),\n",
    "        save_path=\"global_ancestry.ground_truth_2pop\"\n",
    "    )\n",
    "\n",
    "    # Plot ancestry by chromosome\n",
    "    plot_ancestry_by_chromosome(\n",
    "        rf_q,\n",
    "        dpi=300,\n",
    "        bbox_inches=\"tight\",\n",
    "        palette=\"Set1\",      # Two-pop palette\n",
    "        save_path=\"chromosome_summary.ground_truth_2pop\"\n",
    "    )\n",
    "\n",
    "    # Session information\n",
    "    session_info.show()\n",
    "\n",
    "if __name__ == \"__main__\":\n",
    "    main()\n"
   ]
  }
 ],
 "metadata": {
  "kernelspec": {
   "display_name": "Python conda env",
   "language": "python",
   "name": "python-conda-env"
  },
  "language_info": {
   "codemirror_mode": {
    "name": "ipython",
    "version": 3
   },
   "file_extension": ".py",
   "mimetype": "text/x-python",
   "name": "python",
   "nbconvert_exporter": "python",
   "pygments_lexer": "ipython3",
   "version": "3.12.9"
  }
 },
 "nbformat": 4,
 "nbformat_minor": 2
}
