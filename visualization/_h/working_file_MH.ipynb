{
 "cells": [
  {
   "cell_type": "code",
   "execution_count": 1,
   "metadata": {},
   "outputs": [],
   "source": [
    "## Script to visualize global ancestry\n",
    "import session_info\n",
    "from pyhere import here\n",
    "from pathlib import Path\n",
    "import pandas as pd\n",
    "import matplotlib.pyplot as plt"
   ]
  },
  {
   "cell_type": "code",
   "execution_count": 2,
   "metadata": {},
   "outputs": [
    {
     "name": "stdout",
     "output_type": "stream",
     "text": [
      "/gpfs/projects/p32505/users/manuel/rfmix_reader-benchmarking\n"
     ]
    }
   ],
   "source": [
    "print(here())"
   ]
  },
  {
   "cell_type": "markdown",
   "metadata": {},
   "source": [
    "## Local Ancestry:"
   ]
  },
  {
   "cell_type": "code",
   "execution_count": null,
   "metadata": {},
   "outputs": [],
   "source": []
  },
  {
   "cell_type": "markdown",
   "metadata": {},
   "source": [
    "## Global Ancestry:"
   ]
  },
  {
   "cell_type": "code",
   "execution_count": null,
   "metadata": {},
   "outputs": [],
   "source": [
    "def plot_global_ancestry_two_pop_ground_truth(tsv_file: str, output_name: str):\n",
    "\n",
    "    # Load TSV\n",
    "    df = pd.read_csv(tsv_file, sep='\\t')\n",
    "    \n",
    "    # Map population codes to desired labels\n",
    "    df = df.rename(columns={\"CEU\": \"EUR\", \"YRI\": \"AFR\"})\n",
    "    \n",
    "    # Set colors\n",
    "    colors = {\"EUR\": \"blue\", \"AFR\": \"red\"}\n",
    "    \n",
    "    # Set figure size\n",
    "    plt.figure(figsize=(20, 6))\n",
    "    \n",
    "    # Plot stacked bar chart\n",
    "    plt.bar(df['Sample'], df['EUR'], color=colors['EUR'], label='EUR')\n",
    "    plt.bar(df['Sample'], df['AFR'], bottom=df['EUR'], color=colors['AFR'], label='AFR')\n",
    "    \n",
    "    # Axis labels and title\n",
    "    plt.xlabel('Sample')\n",
    "    plt.ylabel('Ancestry Proportion')\n",
    "    plt.title('Global Ancestry Proportions')\n",
    "    \n",
    "    # Set y-axis range from 0 to 1\n",
    "    plt.ylim(0, 1)\n",
    "    \n",
    "    # Add legend\n",
    "    plt.legend()\n",
    "    \n",
    "    # Rotate x-axis labels for readability if needed\n",
    "    plt.xticks(rotation=90)\n",
    "    \n",
    "    # Tight layout\n",
    "    plt.tight_layout()\n",
    "    \n",
    "    # Save figure as PNG and PDF\n",
    "    plt.savefig(f\"{output_name}.png\")\n",
    "    plt.savefig(f\"{output_name}.pdf\")\n",
    "    \n",
    "    # Optionally display the plot\n",
    "    plt.show()\n",
    "\n",
    "# Example usage:\n",
    "# plot_global_ancestry(\"global_ancestry.tsv\", \"global_ancestry_plot\")\n",
    "\n",
    "\n",
    "def main():\n",
    "    \n",
    "    plot_global_ancestry_two_pop_ground_truth()\n",
    "    \n",
    "    # Session information\n",
    "    session_info.show()\n",
    "\n",
    "if __name__ == \"__main__\":\n",
    "    main()"
   ]
  }
 ],
 "metadata": {
  "kernelspec": {
   "display_name": "Python conda env",
   "language": "python",
   "name": "python-conda-env"
  },
  "language_info": {
   "codemirror_mode": {
    "name": "ipython",
    "version": 3
   },
   "file_extension": ".py",
   "mimetype": "text/x-python",
   "name": "python",
   "nbconvert_exporter": "python",
   "pygments_lexer": "ipython3",
   "version": "3.12.9"
  }
 },
 "nbformat": 4,
 "nbformat_minor": 2
}
